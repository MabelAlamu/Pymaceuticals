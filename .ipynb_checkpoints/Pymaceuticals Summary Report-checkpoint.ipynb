{
 "cells": [
  {
   "cell_type": "code",
   "execution_count": null,
   "metadata": {},
   "outputs": [],
   "source": [
    "import matplotlib.pyplot as plt\n",
    "import pandas as pd\n",
    "import scipy.stats as st"
   ]
  },
  {
   "cell_type": "code",
   "execution_count": null,
   "metadata": {},
   "outputs": [],
   "source": [
    "mouse_metadata_path = \"Mouse_metadata.csv\"\n",
    "study_results_path = \"Study_results.csv\"\n",
    "\n",
    "mouse_metadata = pd.read_csv(mouse_metadata_path)\n",
    "study_results = pd.read_csv(study_results_path)"
   ]
  },
  {
   "cell_type": "code",
   "execution_count": null,
   "metadata": {},
   "outputs": [],
   "source": [
    "study_results.head()"
   ]
  },
  {
   "cell_type": "code",
   "execution_count": null,
   "metadata": {},
   "outputs": [],
   "source": [
    "mouse_metadata.head()"
   ]
  },
  {
   "cell_type": "code",
   "execution_count": null,
   "metadata": {},
   "outputs": [],
   "source": [
    "# Combining the data into a single dataset\n",
    "animal_study= pd.merge(mouse_metadata, study_results, how=\"left\", on=[\"Mouse ID\",\"Mouse ID\"])\n",
    "animal_study"
   ]
  },
  {
   "cell_type": "code",
   "execution_count": null,
   "metadata": {},
   "outputs": [],
   "source": [
    "# Checking the number of mice\n",
    "animal_study[\"Mouse ID\"].nunique()"
   ]
  },
  {
   "cell_type": "code",
   "execution_count": null,
   "metadata": {},
   "outputs": [],
   "source": [
    " # Creating a clean DataFrame by dropping the duplicate mouse by its ID.\n",
    "animal_study.drop_duplicates()\n",
    "animal_study"
   ]
  },
  {
   "cell_type": "markdown",
   "metadata": {},
   "source": [
    "# Summary Statistics"
   ]
  },
  {
   "cell_type": "code",
   "execution_count": null,
   "metadata": {},
   "outputs": [],
   "source": [
    "# Generating a summary table of mean, median, variance, standard deviation, and SEM(standard error) of the tumor volume for each regimen\n",
    "mean = animal_study.groupby('Drug Regimen')['Tumor Volume (mm3)'].mean()\n",
    "median = animal_study.groupby('Drug Regimen')['Tumor Volume (mm3)'].median()\n",
    "variance = animal_study.groupby('Drug Regimen')['Tumor Volume (mm3)'].var()\n",
    "std = animal_study.groupby('Drug Regimen')['Tumor Volume (mm3)'].std()\n",
    "sem = animal_study.groupby('Drug Regimen')['Tumor Volume (mm3)'].sem()\n",
    "\n",
    "#assembling the results into a dataframe\n",
    "summary_df = pd.DataFrame({\"Mean\": mean, \"Median\": median, \"Variance\": variance, \"Standard Deviation\": std, \n",
    "                          \"Standard Error\": sem})\n",
    "summary_df"
   ]
  },
  {
   "cell_type": "markdown",
   "metadata": {},
   "source": [
    "# Bar and Pie Charts\n",
    "* Generate a bar plot that shows the total number of measurements taken on each drug regimen using pyplot and pandas.\n",
    "* Generate a pie plot showing the distribution of female versus male mice using pyplot and pandas\n"
   ]
  },
  {
   "cell_type": "markdown",
   "metadata": {},
   "source": [
    "Bar Chart: Pyplot Method"
   ]
  },
  {
   "cell_type": "code",
   "execution_count": null,
   "metadata": {},
   "outputs": [],
   "source": [
    "#first,use the index.tolist() fuction to return a list of the names of the regimen\n",
    "regimen= summary_df.index.tolist()\n",
    "regimen"
   ]
  },
  {
   "cell_type": "code",
   "execution_count": null,
   "metadata": {},
   "outputs": [],
   "source": [
    "#second, use the to.list() function to return a list of the total measurement for each regimen\n",
    "count= (animal_study.groupby(['Drug Regimen']).count())\n",
    "total_measurement= count['Mouse ID'].tolist()\n",
    "total_measurement"
   ]
  },
  {
   "cell_type": "code",
   "execution_count": null,
   "metadata": {},
   "outputs": [],
   "source": [
    "#create bar chart based on the data above\n",
    "plt.figure(figsize=(10,4))\n",
    "plt.bar(regimen, total_measurement, color=\"purple\", align=\"center\")\n",
    "\n",
    "#chart title and x label\n",
    "plt.title(\"Total Measurement for each Treatment\")\n",
    "plt.xlabel(\"Drug Regimen\")\n",
    "\n",
    "#save the image\n",
    "plt.savefig(\"PyPlotBar.png\")"
   ]
  },
  {
   "cell_type": "markdown",
   "metadata": {},
   "source": [
    "Bar Chart: Pandas Method"
   ]
  },
  {
   "cell_type": "code",
   "execution_count": null,
   "metadata": {},
   "outputs": [],
   "source": [
    "regimen_p= (animal_study['Drug Regimen'].value_counts()).sort_index()\n",
    "regimen_p"
   ]
  },
  {
   "cell_type": "code",
   "execution_count": null,
   "metadata": {},
   "outputs": [],
   "source": [
    "regimen_p.plot(kind=\"bar\", facecolor=\"red\", figsize=(10,4))\n",
    "\n",
    "#chart title and x label\n",
    "plt.title(\"Total Measurement for each Treatment\")\n",
    "plt.xlabel (\"Drug Regimen\")\n",
    "\n",
    "#save the image\n",
    "plt.savefig(\"PandasBar.png\")"
   ]
  },
  {
   "cell_type": "markdown",
   "metadata": {},
   "source": [
    "Pie Chart: Pyplot Method"
   ]
  },
  {
   "cell_type": "code",
   "execution_count": null,
   "metadata": {},
   "outputs": [],
   "source": [
    "\n",
    "#first use the groupby and count function to find the distribution of female and male mice\n",
    "count= (animal_study.groupby(['Sex']).count())\n",
    "\n",
    "#second, use the to.list() function to return a list of the sex and distribution\n",
    "sex= count.index.tolist()\n",
    "sex_count= count['Mouse ID'].tolist()\n",
    "\n",
    "colors= ['purple', 'cyan']\n",
    "explode= (0.1,0)\n",
    "sex, sex_count"
   ]
  },
  {
   "cell_type": "code",
   "execution_count": null,
   "metadata": {},
   "outputs": [],
   "source": [
    "plt.pie(sex_count, labels=sex, colors=colors,\n",
    "        autopct=\"%1.1f%%\", shadow=True, startangle=140)\n",
    "plt.axis(\"equal\")\n",
    "plt.title= (\"Mice Gender Distribution\")\n",
    "\n",
    "#save the image\n",
    "plt.savefig(\"PyPlotPie.png\")"
   ]
  },
  {
   "cell_type": "markdown",
   "metadata": {},
   "source": [
    "Pie Chart: Pandas Method"
   ]
  },
  {
   "cell_type": "code",
   "execution_count": null,
   "metadata": {},
   "outputs": [],
   "source": [
    "#Spliting the data into groups based upon 'sex' and 'mouse id'\n",
    "sex_p= (animal_study.groupby(['Sex'])['Mouse ID'].count())\n",
    "sex_p"
   ]
  },
  {
   "cell_type": "code",
   "execution_count": null,
   "metadata": {},
   "outputs": [],
   "source": [
    "#Creating a pie chart based on the gender segregated data above\n",
    "colors= ['yellow', 'red']\n",
    "\n",
    "gender_distribution = sex_p.plot(kind=\"pie\", y='Mouse ID', title=(\"Mice Gender Distribution\"),autopct= '%1.1f%%', colors=colors)\n",
    "gender_distribution.set_ylabel(\"\")\n",
    "plt.axis(\"equal\")\n",
    "\n",
    "#save the image\n",
    "plt.savefig(\"PandasPie.png\")"
   ]
  },
  {
   "cell_type": "markdown",
   "metadata": {},
   "source": [
    "# Quartiles, Outliers and Boxplots"
   ]
  },
  {
   "cell_type": "code",
   "execution_count": null,
   "metadata": {},
   "outputs": [],
   "source": [
    "# Calculate the final tumor volume of each mouse across four of the treatment regimens:  Capomulin, Ramicane, Infubinol, and Ceftamin\n",
    "druglist= ['Capomulin', 'Ramicane', 'Infubinol', 'Ceftamin']\n",
    "\n",
    "#creating a dataframe that contains only the listed drugs above\n",
    "CRIC_drug= animal_study[animal_study['Drug Regimen'].isin(druglist)]\n",
    "CRIC_drug"
   ]
  },
  {
   "cell_type": "code",
   "execution_count": null,
   "metadata": {},
   "outputs": [],
   "source": [
    "#Getting the last (greatest) timepoint for each mouse\n",
    "last_time= (CRIC_drug.groupby(['Mouse ID'])['Timepoint'].max()).reset_index()\n",
    "#last_time['Timepoint'].value_counts()\n",
    "last_time"
   ]
  },
  {
   "cell_type": "code",
   "execution_count": null,
   "metadata": {},
   "outputs": [],
   "source": [
    "# Combining the data into a single dataset\n",
    "final_tumor= pd.merge(last_time, animal_study, how=\"left\", on=[\"Mouse ID\",\"Mouse ID\"])\n",
    "final_tumor"
   ]
  },
  {
   "cell_type": "code",
   "execution_count": null,
   "metadata": {},
   "outputs": [],
   "source": [
    "# Rename Timepoint_x\n",
    "final_tumor = final_tumor.rename(columns={\"Timepoint_x\": \"Greatest Timepoint\"})\n",
    "final_tumor"
   ]
  },
  {
   "cell_type": "code",
   "execution_count": null,
   "metadata": {},
   "outputs": [],
   "source": [
    "final_tumor= final_tumor[['Mouse ID','Tumor Volume (mm3)',\"Greatest Timepoint\"]]\n",
    "\n",
    "last_tumor= (final_tumor[\"Greatest Timepoint\"].last()).reset_index()\n",
    "last_tumor"
   ]
  },
  {
   "cell_type": "code",
   "execution_count": null,
   "metadata": {},
   "outputs": [],
   "source": []
  },
  {
   "cell_type": "markdown",
   "metadata": {},
   "source": [
    "# Line and Scatter Plots"
   ]
  },
  {
   "cell_type": "code",
   "execution_count": null,
   "metadata": {
    "scrolled": true
   },
   "outputs": [],
   "source": [
    "# Generating a line plot of tumor volume vs. time point for a mouse treated with Capomulin\n",
    "capomulin_df = animal_study.loc[animal_study[\"Drug Regimen\"] == \"Capomulin\"]\n",
    "capomulin_df"
   ]
  },
  {
   "cell_type": "code",
   "execution_count": null,
   "metadata": {},
   "outputs": [],
   "source": [
    "r157_df = capomulin_df.loc[capomulin_df[\"Mouse ID\"] == \"r157\"]\n",
    "r157_df"
   ]
  },
  {
   "cell_type": "code",
   "execution_count": null,
   "metadata": {},
   "outputs": [],
   "source": [
    "r157_df= r157_df[['Timepoint','Tumor Volume (mm3)']]\n",
    "\n",
    "timepoint= r157_df['Timepoint']\n",
    "tumor_volume= r157_df['Tumor Volume (mm3)']\n",
    "\n",
    "r157_df"
   ]
  },
  {
   "cell_type": "code",
   "execution_count": null,
   "metadata": {},
   "outputs": [],
   "source": [
    "plt.plot(tumor_volume, timepoint, marker ='o', color='magenta')\n",
    "\n",
    "#plt.title(\"Time Series of Tumor Volume for Mouse r157 treated with Capomulin\")\n",
    "plt.xlabel(\"Tumor Volume (mm3)\")\n",
    "plt.ylabel(\"Timepoint\")\n",
    "\n",
    "#save line graph\n",
    "plt.savefig(\"Time Series of Tumor Volume.png\")"
   ]
  },
  {
   "cell_type": "code",
   "execution_count": null,
   "metadata": {},
   "outputs": [],
   "source": [
    "# Generating a scatter plot of average tumor volume vs. mouse weight for the Capomulin regimen\n",
    "capomulin_weight= capomulin_df[[\"Mouse ID\", \"Weight (g)\", \"Tumor Volume (mm3)\"]]\n",
    "capomulin_weight"
   ]
  },
  {
   "cell_type": "code",
   "execution_count": null,
   "metadata": {},
   "outputs": [],
   "source": [
    "volume_mean = (capomulin_weight.groupby(['Mouse ID','Weight (g)'])['Tumor Volume (mm3)'].mean()).reset_index()\n",
    "\n",
    "# Rename Tumor Volume column\n",
    "volume_mean = volume_mean.rename(columns={\"Tumor Volume (mm3)\": \"Average Volume\"})\n",
    "volume_mean"
   ]
  },
  {
   "cell_type": "code",
   "execution_count": null,
   "metadata": {},
   "outputs": [],
   "source": [
    "# Set the 'Mouse ID' as our index\n",
    "volume_mean = volume_mean.set_index('Mouse ID')\n",
    "\n",
    "#Generate a scatter plot of mouse weight versus average tumor volume for the Capomulin regimen\n",
    "volume_mean.plot(kind=\"scatter\", x=\"Weight (g)\", y=\"Average Volume\", grid=True, figsize=(4,4),color='green',title=\"Weight Vs. Average Tumor Volume\")\n",
    "\n",
    "#save image\n",
    "plt.savefig(\"Weight vs Average Tumor Volume.png\")"
   ]
  },
  {
   "cell_type": "markdown",
   "metadata": {},
   "source": [
    "# Correlation and Regression"
   ]
  },
  {
   "cell_type": "code",
   "execution_count": null,
   "metadata": {},
   "outputs": [],
   "source": [
    "# Calculate the correlation coefficient and linear regression model for mouse weight and average tumor volume for the Capomulin regimen\n",
    "weight= volume_mean['Weight (g)']\n",
    "vol_mean= volume_mean['Average Volume']\n",
    "\n",
    "correlation = st.pearsonr(weight,vol_mean)\n",
    "print(f\"The correlation between mouse weight and average tumor volume for the Capomulin regimen is {round(correlation[0],2)}\")"
   ]
  },
  {
   "cell_type": "code",
   "execution_count": null,
   "metadata": {},
   "outputs": [],
   "source": [
    "from scipy.stats import linregress"
   ]
  },
  {
   "cell_type": "code",
   "execution_count": null,
   "metadata": {},
   "outputs": [],
   "source": [
    "x_values = weight\n",
    "y_values = vol_mean\n",
    "(slope, intercept, rvalue, pvalue, stderr) = linregress(x_values, y_values)\n",
    "regress_values = x_values * slope + intercept\n",
    "line_eq = \"y = \" + str(round(slope,2)) + \"x + \" + str(round(intercept,2))\n",
    "plt.scatter(x_values,y_values)\n",
    "plt.plot(x_values,regress_values,\"r-\")\n",
    "plt.annotate(line_eq,(6,10),fontsize=15,color=\"red\")\n",
    "plt.xlabel('Weight')\n",
    "plt.ylabel('Average Volume')\n",
    "\n",
    "#save image\n",
    "plt.savefig(\"Linear Regression.png\")"
   ]
  }
 ],
 "metadata": {
  "kernelspec": {
   "display_name": "Python 3",
   "language": "python",
   "name": "python3"
  },
  "language_info": {
   "codemirror_mode": {
    "name": "ipython",
    "version": 3
   },
   "file_extension": ".py",
   "mimetype": "text/x-python",
   "name": "python",
   "nbconvert_exporter": "python",
   "pygments_lexer": "ipython3",
   "version": "3.8.5"
  }
 },
 "nbformat": 4,
 "nbformat_minor": 4
}
